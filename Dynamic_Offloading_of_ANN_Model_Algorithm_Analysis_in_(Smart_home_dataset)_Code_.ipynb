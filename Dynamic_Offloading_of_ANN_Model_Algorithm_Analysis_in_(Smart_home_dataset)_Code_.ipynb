{
  "nbformat": 4,
  "nbformat_minor": 0,
  "metadata": {
    "colab": {
      "provenance": [],
      "include_colab_link": true
    },
    "kernelspec": {
      "name": "python3",
      "display_name": "Python 3"
    },
    "language_info": {
      "name": "python"
    }
  },
  "cells": [
    {
      "cell_type": "markdown",
      "metadata": {
        "id": "view-in-github",
        "colab_type": "text"
      },
      "source": [
        "<a href=\"https://colab.research.google.com/github/shksherry/Dynamic-Offloading-of-ANN-Model-Algorithm-Analysis/blob/main/Dynamic_Offloading_of_ANN_Model_Algorithm_Analysis_in_(Smart_home_dataset)_Code_.ipynb\" target=\"_parent\"><img src=\"https://colab.research.google.com/assets/colab-badge.svg\" alt=\"Open In Colab\"/></a>"
      ]
    },
    {
      "cell_type": "code",
      "source": [
        "import pandas as pd\n",
        "data=pd.read_csv(\"cloud final1.csv\")"
      ],
      "metadata": {
        "id": "zlFwV22M4X6J"
      },
      "execution_count": null,
      "outputs": []
    },
    {
      "cell_type": "code",
      "source": [
        "data.head()"
      ],
      "metadata": {
        "colab": {
          "base_uri": "https://localhost:8080/",
          "height": 206
        },
        "id": "Fx7ptSXY4iuk",
        "outputId": "4890f7fd-9448-4b89-a75b-8d8513b73f39"
      },
      "execution_count": null,
      "outputs": [
        {
          "output_type": "execute_result",
          "data": {
            "text/plain": [
              "   QoS (Resp. Time)  Energy (V)  Bandwidth (kbps)  Decision 1  Decision 2  \\\n",
              "0               0.3           1               616           1           1   \n",
              "1               0.5           2               792           1           1   \n",
              "2               0.6           3               766           0           0   \n",
              "3               0.7           4               696           0           0   \n",
              "4               0.8           2               502           0           1   \n",
              "\n",
              "   Decision3  Output  \n",
              "0          1     1.0  \n",
              "1          1     1.0  \n",
              "2          1     0.0  \n",
              "3          1     0.0  \n",
              "4          1     0.0  "
            ],
            "text/html": [
              "\n",
              "  <div id=\"df-d6def767-ca61-4543-95b5-391ab038dba7\">\n",
              "    <div class=\"colab-df-container\">\n",
              "      <div>\n",
              "<style scoped>\n",
              "    .dataframe tbody tr th:only-of-type {\n",
              "        vertical-align: middle;\n",
              "    }\n",
              "\n",
              "    .dataframe tbody tr th {\n",
              "        vertical-align: top;\n",
              "    }\n",
              "\n",
              "    .dataframe thead th {\n",
              "        text-align: right;\n",
              "    }\n",
              "</style>\n",
              "<table border=\"1\" class=\"dataframe\">\n",
              "  <thead>\n",
              "    <tr style=\"text-align: right;\">\n",
              "      <th></th>\n",
              "      <th>QoS (Resp. Time)</th>\n",
              "      <th>Energy (V)</th>\n",
              "      <th>Bandwidth (kbps)</th>\n",
              "      <th>Decision 1</th>\n",
              "      <th>Decision 2</th>\n",
              "      <th>Decision3</th>\n",
              "      <th>Output</th>\n",
              "    </tr>\n",
              "  </thead>\n",
              "  <tbody>\n",
              "    <tr>\n",
              "      <th>0</th>\n",
              "      <td>0.3</td>\n",
              "      <td>1</td>\n",
              "      <td>616</td>\n",
              "      <td>1</td>\n",
              "      <td>1</td>\n",
              "      <td>1</td>\n",
              "      <td>1.0</td>\n",
              "    </tr>\n",
              "    <tr>\n",
              "      <th>1</th>\n",
              "      <td>0.5</td>\n",
              "      <td>2</td>\n",
              "      <td>792</td>\n",
              "      <td>1</td>\n",
              "      <td>1</td>\n",
              "      <td>1</td>\n",
              "      <td>1.0</td>\n",
              "    </tr>\n",
              "    <tr>\n",
              "      <th>2</th>\n",
              "      <td>0.6</td>\n",
              "      <td>3</td>\n",
              "      <td>766</td>\n",
              "      <td>0</td>\n",
              "      <td>0</td>\n",
              "      <td>1</td>\n",
              "      <td>0.0</td>\n",
              "    </tr>\n",
              "    <tr>\n",
              "      <th>3</th>\n",
              "      <td>0.7</td>\n",
              "      <td>4</td>\n",
              "      <td>696</td>\n",
              "      <td>0</td>\n",
              "      <td>0</td>\n",
              "      <td>1</td>\n",
              "      <td>0.0</td>\n",
              "    </tr>\n",
              "    <tr>\n",
              "      <th>4</th>\n",
              "      <td>0.8</td>\n",
              "      <td>2</td>\n",
              "      <td>502</td>\n",
              "      <td>0</td>\n",
              "      <td>1</td>\n",
              "      <td>1</td>\n",
              "      <td>0.0</td>\n",
              "    </tr>\n",
              "  </tbody>\n",
              "</table>\n",
              "</div>\n",
              "      <button class=\"colab-df-convert\" onclick=\"convertToInteractive('df-d6def767-ca61-4543-95b5-391ab038dba7')\"\n",
              "              title=\"Convert this dataframe to an interactive table.\"\n",
              "              style=\"display:none;\">\n",
              "        \n",
              "  <svg xmlns=\"http://www.w3.org/2000/svg\" height=\"24px\"viewBox=\"0 0 24 24\"\n",
              "       width=\"24px\">\n",
              "    <path d=\"M0 0h24v24H0V0z\" fill=\"none\"/>\n",
              "    <path d=\"M18.56 5.44l.94 2.06.94-2.06 2.06-.94-2.06-.94-.94-2.06-.94 2.06-2.06.94zm-11 1L8.5 8.5l.94-2.06 2.06-.94-2.06-.94L8.5 2.5l-.94 2.06-2.06.94zm10 10l.94 2.06.94-2.06 2.06-.94-2.06-.94-.94-2.06-.94 2.06-2.06.94z\"/><path d=\"M17.41 7.96l-1.37-1.37c-.4-.4-.92-.59-1.43-.59-.52 0-1.04.2-1.43.59L10.3 9.45l-7.72 7.72c-.78.78-.78 2.05 0 2.83L4 21.41c.39.39.9.59 1.41.59.51 0 1.02-.2 1.41-.59l7.78-7.78 2.81-2.81c.8-.78.8-2.07 0-2.86zM5.41 20L4 18.59l7.72-7.72 1.47 1.35L5.41 20z\"/>\n",
              "  </svg>\n",
              "      </button>\n",
              "      \n",
              "  <style>\n",
              "    .colab-df-container {\n",
              "      display:flex;\n",
              "      flex-wrap:wrap;\n",
              "      gap: 12px;\n",
              "    }\n",
              "\n",
              "    .colab-df-convert {\n",
              "      background-color: #E8F0FE;\n",
              "      border: none;\n",
              "      border-radius: 50%;\n",
              "      cursor: pointer;\n",
              "      display: none;\n",
              "      fill: #1967D2;\n",
              "      height: 32px;\n",
              "      padding: 0 0 0 0;\n",
              "      width: 32px;\n",
              "    }\n",
              "\n",
              "    .colab-df-convert:hover {\n",
              "      background-color: #E2EBFA;\n",
              "      box-shadow: 0px 1px 2px rgba(60, 64, 67, 0.3), 0px 1px 3px 1px rgba(60, 64, 67, 0.15);\n",
              "      fill: #174EA6;\n",
              "    }\n",
              "\n",
              "    [theme=dark] .colab-df-convert {\n",
              "      background-color: #3B4455;\n",
              "      fill: #D2E3FC;\n",
              "    }\n",
              "\n",
              "    [theme=dark] .colab-df-convert:hover {\n",
              "      background-color: #434B5C;\n",
              "      box-shadow: 0px 1px 3px 1px rgba(0, 0, 0, 0.15);\n",
              "      filter: drop-shadow(0px 1px 2px rgba(0, 0, 0, 0.3));\n",
              "      fill: #FFFFFF;\n",
              "    }\n",
              "  </style>\n",
              "\n",
              "      <script>\n",
              "        const buttonEl =\n",
              "          document.querySelector('#df-d6def767-ca61-4543-95b5-391ab038dba7 button.colab-df-convert');\n",
              "        buttonEl.style.display =\n",
              "          google.colab.kernel.accessAllowed ? 'block' : 'none';\n",
              "\n",
              "        async function convertToInteractive(key) {\n",
              "          const element = document.querySelector('#df-d6def767-ca61-4543-95b5-391ab038dba7');\n",
              "          const dataTable =\n",
              "            await google.colab.kernel.invokeFunction('convertToInteractive',\n",
              "                                                     [key], {});\n",
              "          if (!dataTable) return;\n",
              "\n",
              "          const docLinkHtml = 'Like what you see? Visit the ' +\n",
              "            '<a target=\"_blank\" href=https://colab.research.google.com/notebooks/data_table.ipynb>data table notebook</a>'\n",
              "            + ' to learn more about interactive tables.';\n",
              "          element.innerHTML = '';\n",
              "          dataTable['output_type'] = 'display_data';\n",
              "          await google.colab.output.renderOutput(dataTable, element);\n",
              "          const docLink = document.createElement('div');\n",
              "          docLink.innerHTML = docLinkHtml;\n",
              "          element.appendChild(docLink);\n",
              "        }\n",
              "      </script>\n",
              "    </div>\n",
              "  </div>\n",
              "  "
            ]
          },
          "metadata": {},
          "execution_count": 50
        }
      ]
    },
    {
      "cell_type": "code",
      "source": [
        "data['Output']"
      ],
      "metadata": {
        "colab": {
          "base_uri": "https://localhost:8080/"
        },
        "id": "QOMmw-ne4oi8",
        "outputId": "f2587161-4130-4259-c7d6-422993b90e0b"
      },
      "execution_count": null,
      "outputs": [
        {
          "output_type": "execute_result",
          "data": {
            "text/plain": [
              "0       1.0\n",
              "1       1.0\n",
              "2       0.0\n",
              "3       0.0\n",
              "4       0.0\n",
              "       ... \n",
              "9994    1.0\n",
              "9995    0.0\n",
              "9996    0.0\n",
              "9997    4.0\n",
              "9998    0.0\n",
              "Name: Output, Length: 9999, dtype: float64"
            ]
          },
          "metadata": {},
          "execution_count": 51
        }
      ]
    },
    {
      "cell_type": "code",
      "source": [
        "data['Output'].unique()"
      ],
      "metadata": {
        "colab": {
          "base_uri": "https://localhost:8080/"
        },
        "id": "hwZ4-kzL4ueS",
        "outputId": "86d82320-069a-43aa-9d2e-c0581f3e40ba"
      },
      "execution_count": null,
      "outputs": [
        {
          "output_type": "execute_result",
          "data": {
            "text/plain": [
              "array([1.  , 0.  , 0.11, 2.  , 4.  ])"
            ]
          },
          "metadata": {},
          "execution_count": 52
        }
      ]
    },
    {
      "cell_type": "code",
      "source": [
        "data.count()"
      ],
      "metadata": {
        "colab": {
          "base_uri": "https://localhost:8080/"
        },
        "id": "6najOA8k413I",
        "outputId": "a8d9c96c-b194-4a63-edc1-2191211a3afe"
      },
      "execution_count": null,
      "outputs": [
        {
          "output_type": "execute_result",
          "data": {
            "text/plain": [
              "QoS (Resp. Time)    9999\n",
              "Energy (V)          9999\n",
              "Bandwidth (kbps)    9999\n",
              "Decision 1          9999\n",
              "Decision 2          9999\n",
              "Decision3           9999\n",
              "Output              9999\n",
              "dtype: int64"
            ]
          },
          "metadata": {},
          "execution_count": 53
        }
      ]
    },
    {
      "cell_type": "code",
      "source": [
        "print(data.isnull().sum())\n",
        "\n",
        "\n",
        "print(\"Total Null values count: \",\n",
        "      data.isnull().sum().sum())"
      ],
      "metadata": {
        "colab": {
          "base_uri": "https://localhost:8080/"
        },
        "id": "xZCckDO746kq",
        "outputId": "4d3a48c5-8637-458e-eef6-60caa25b36d4"
      },
      "execution_count": null,
      "outputs": [
        {
          "output_type": "stream",
          "name": "stdout",
          "text": [
            "QoS (Resp. Time)    0\n",
            "Energy (V)          0\n",
            "Bandwidth (kbps)    0\n",
            "Decision 1          0\n",
            "Decision 2          0\n",
            "Decision3           0\n",
            "Output              0\n",
            "dtype: int64\n",
            "Total Null values count:  0\n"
          ]
        }
      ]
    },
    {
      "cell_type": "code",
      "source": [
        "print(\"Value of class 1\",\n",
        "      data[data['Output'] >0].count())"
      ],
      "metadata": {
        "colab": {
          "base_uri": "https://localhost:8080/"
        },
        "id": "24FwsEkC49yu",
        "outputId": "a280d2b7-5d7f-42bc-9575-838d1886f869"
      },
      "execution_count": null,
      "outputs": [
        {
          "output_type": "stream",
          "name": "stdout",
          "text": [
            "Value of class 1 QoS (Resp. Time)    1529\n",
            "Energy (V)          1529\n",
            "Bandwidth (kbps)    1529\n",
            "Decision 1          1529\n",
            "Decision 2          1529\n",
            "Decision3           1529\n",
            "Output              1529\n",
            "dtype: int64\n"
          ]
        }
      ]
    },
    {
      "cell_type": "code",
      "source": [
        "import numpy as np\n",
        "import matplotlib.pyplot as plt\n",
        "import seaborn as sns\n",
        "import time\n",
        "import os"
      ],
      "metadata": {
        "id": "FOpcs0rC5B43"
      },
      "execution_count": null,
      "outputs": []
    },
    {
      "cell_type": "code",
      "source": [
        "data.shape"
      ],
      "metadata": {
        "colab": {
          "base_uri": "https://localhost:8080/"
        },
        "id": "cXSYgS_a5DAu",
        "outputId": "4a19a2ae-c8a2-4699-89df-7ee3f4454499"
      },
      "execution_count": null,
      "outputs": [
        {
          "output_type": "execute_result",
          "data": {
            "text/plain": [
              "(9999, 7)"
            ]
          },
          "metadata": {},
          "execution_count": 57
        }
      ]
    },
    {
      "cell_type": "code",
      "source": [
        "data.dtypes"
      ],
      "metadata": {
        "colab": {
          "base_uri": "https://localhost:8080/"
        },
        "id": "pRygF9Qk5J6z",
        "outputId": "74ec9eb4-6c58-4d17-f6a8-5f09ff180287"
      },
      "execution_count": null,
      "outputs": [
        {
          "output_type": "execute_result",
          "data": {
            "text/plain": [
              "QoS (Resp. Time)    float64\n",
              "Energy (V)            int64\n",
              "Bandwidth (kbps)      int64\n",
              "Decision 1            int64\n",
              "Decision 2            int64\n",
              "Decision3             int64\n",
              "Output              float64\n",
              "dtype: object"
            ]
          },
          "metadata": {},
          "execution_count": 58
        }
      ]
    },
    {
      "cell_type": "code",
      "source": [
        "data.isnull().sum()"
      ],
      "metadata": {
        "colab": {
          "base_uri": "https://localhost:8080/"
        },
        "id": "JbiSUyZo5NFv",
        "outputId": "95fed0f7-0ae0-44f9-8241-622353917596"
      },
      "execution_count": null,
      "outputs": [
        {
          "output_type": "execute_result",
          "data": {
            "text/plain": [
              "QoS (Resp. Time)    0\n",
              "Energy (V)          0\n",
              "Bandwidth (kbps)    0\n",
              "Decision 1          0\n",
              "Decision 2          0\n",
              "Decision3           0\n",
              "Output              0\n",
              "dtype: int64"
            ]
          },
          "metadata": {},
          "execution_count": 59
        }
      ]
    },
    {
      "cell_type": "code",
      "source": [
        "bar_graph('Output')"
      ],
      "metadata": {
        "colab": {
          "base_uri": "https://localhost:8080/",
          "height": 385
        },
        "id": "1PqEbkXJ5WDP",
        "outputId": "8ddcb635-9018-4c9b-c804-a80585869f19"
      },
      "execution_count": null,
      "outputs": [
        {
          "output_type": "display_data",
          "data": {
            "text/plain": [
              "<Figure size 400x400 with 1 Axes>"
            ],
            "image/png": "[encoded data removed]"
          },
          "metadata": {}
        }
      ]
    },
    {
      "cell_type": "code",
      "source": [],
      "metadata": {
        "id": "Sqgy7XVi5Z8U"
      },
      "execution_count": null,
      "outputs": []
    },
    {
      "cell_type": "code",
      "source": [
        "def bar_graph(feature):\n",
        "    plt.figure(figsize=(4,4),dpi=100)\n",
        "    data[feature].value_counts().plot(kind=\"bar\")"
      ],
      "metadata": {
        "id": "wO7D2u-T5Se6"
      },
      "execution_count": null,
      "outputs": []
    },
    {
      "cell_type": "code",
      "source": [
        "data.columns"
      ],
      "metadata": {
        "colab": {
          "base_uri": "https://localhost:8080/"
        },
        "id": "h9X9Sdfq5bji",
        "outputId": "91e20e8e-29ff-4ccd-f4a4-eb194b2f4da8"
      },
      "execution_count": null,
      "outputs": [
        {
          "output_type": "execute_result",
          "data": {
            "text/plain": [
              "Index(['QoS (Resp. Time)', 'Energy (V)', 'Bandwidth (kbps)', 'Decision 1',\n",
              "       'Decision 2', 'Decision3', 'Output'],\n",
              "      dtype='object')"
            ]
          },
          "metadata": {},
          "execution_count": 66
        }
      ]
    },
    {
      "cell_type": "code",
      "source": [
        "data = data.dropna('columns')# drop columns with NaN\n",
        "\n",
        "data = data[[col for col in data if data[col].nunique() > 1]]# keep columns where there are more than 1 unique values\n",
        "\n",
        "corr = data.corr()\n",
        "\n",
        "plt.figure(figsize=(8,5))\n",
        "\n",
        "sns.heatmap(corr)\n",
        "\n",
        "plt.show()"
      ],
      "metadata": {
        "colab": {
          "base_uri": "https://localhost:8080/",
          "height": 615
        },
        "id": "hZxgiTd35iqr",
        "outputId": "8e4b37df-78f1-4211-9fa4-2a5bc729ca08"
      },
      "execution_count": null,
      "outputs": [
        {
          "output_type": "stream",
          "name": "stderr",
          "text": [
            "<ipython-input-67-36c77321f4c2>:1: FutureWarning: In a future version of pandas all arguments of DataFrame.dropna will be keyword-only.\n",
            "  data = data.dropna('columns')# drop columns with NaN\n"
          ]
        },
        {
          "output_type": "display_data",
          "data": {
            "text/plain": [
              "<Figure size 800x500 with 2 Axes>"
            ],
            "image/png": "[encoded data removed]"
          },
          "metadata": {}
        }
      ]
    },
    {
      "cell_type": "markdown",
      "source": [
        "# New Section"
      ],
      "metadata": {
        "id": "ycDiOCNedm6l"
      }
    },
    {
      "cell_type": "code",
      "source": [
        "corr"
      ],
      "metadata": {
        "colab": {
          "base_uri": "https://localhost:8080/",
          "height": 269
        },
        "id": "wP7ou0945jH_",
        "outputId": "af7e378f-c6fc-4fcc-92cc-ed29179b193b"
      },
      "execution_count": null,
      "outputs": [
        {
          "output_type": "execute_result",
          "data": {
            "text/plain": [
              "                  QoS (Resp. Time)  Energy (V)  Bandwidth (kbps)  Decision 1  \\\n",
              "QoS (Resp. Time)          1.000000   -0.016213         -0.006151   -0.856406   \n",
              "Energy (V)               -0.016213    1.000000         -0.005578    0.017199   \n",
              "Bandwidth (kbps)         -0.006151   -0.005578          1.000000    0.000619   \n",
              "Decision 1               -0.856406    0.017199          0.000619    1.000000   \n",
              "Decision 2                0.018149   -0.868325          0.003979   -0.019054   \n",
              "Decision3                -0.013767    0.001470          0.746360    0.012525   \n",
              "Output                   -0.363047   -0.433928          0.184699    0.419577   \n",
              "\n",
              "                  Decision 2  Decision3    Output  \n",
              "QoS (Resp. Time)    0.018149  -0.013767 -0.363047  \n",
              "Energy (V)         -0.868325   0.001470 -0.433928  \n",
              "Bandwidth (kbps)    0.003979   0.746360  0.184699  \n",
              "Decision 1         -0.019054   0.012525  0.419577  \n",
              "Decision 2          1.000000  -0.006054  0.503820  \n",
              "Decision3          -0.006054   1.000000  0.237797  \n",
              "Output              0.503820   0.237797  1.000000  "
            ],
            "text/html": [
              "\n",
              "  <div id=\"df-07ac45b4-5a5b-47f7-b201-c14af40aafc4\">\n",
              "    <div class=\"colab-df-container\">\n",
              "      <div>\n",
              "<style scoped>\n",
              "    .dataframe tbody tr th:only-of-type {\n",
              "        vertical-align: middle;\n",
              "    }\n",
              "\n",
              "    .dataframe tbody tr th {\n",
              "        vertical-align: top;\n",
              "    }\n",
              "\n",
              "    .dataframe thead th {\n",
              "        text-align: right;\n",
              "    }\n",
              "</style>\n",
              "<table border=\"1\" class=\"dataframe\">\n",
              "  <thead>\n",
              "    <tr style=\"text-align: right;\">\n",
              "      <th></th>\n",
              "      <th>QoS (Resp. Time)</th>\n",
              "      <th>Energy (V)</th>\n",
              "      <th>Bandwidth (kbps)</th>\n",
              "      <th>Decision 1</th>\n",
              "      <th>Decision 2</th>\n",
              "      <th>Decision3</th>\n",
              "      <th>Output</th>\n",
              "    </tr>\n",
              "  </thead>\n",
              "  <tbody>\n",
              "    <tr>\n",
              "      <th>QoS (Resp. Time)</th>\n",
              "      <td>1.000000</td>\n",
              "      <td>-0.016213</td>\n",
              "      <td>-0.006151</td>\n",
              "      <td>-0.856406</td>\n",
              "      <td>0.018149</td>\n",
              "      <td>-0.013767</td>\n",
              "      <td>-0.363047</td>\n",
              "    </tr>\n",
              "    <tr>\n",
              "      <th>Energy (V)</th>\n",
              "      <td>-0.016213</td>\n",
              "      <td>1.000000</td>\n",
              "      <td>-0.005578</td>\n",
              "      <td>0.017199</td>\n",
              "      <td>-0.868325</td>\n",
              "      <td>0.001470</td>\n",
              "      <td>-0.433928</td>\n",
              "    </tr>\n",
              "    <tr>\n",
              "      <th>Bandwidth (kbps)</th>\n",
              "      <td>-0.006151</td>\n",
              "      <td>-0.005578</td>\n",
              "      <td>1.000000</td>\n",
              "      <td>0.000619</td>\n",
              "      <td>0.003979</td>\n",
              "      <td>0.746360</td>\n",
              "      <td>0.184699</td>\n",
              "    </tr>\n",
              "    <tr>\n",
              "      <th>Decision 1</th>\n",
              "      <td>-0.856406</td>\n",
              "      <td>0.017199</td>\n",
              "      <td>0.000619</td>\n",
              "      <td>1.000000</td>\n",
              "      <td>-0.019054</td>\n",
              "      <td>0.012525</td>\n",
              "      <td>0.419577</td>\n",
              "    </tr>\n",
              "    <tr>\n",
              "      <th>Decision 2</th>\n",
              "      <td>0.018149</td>\n",
              "      <td>-0.868325</td>\n",
              "      <td>0.003979</td>\n",
              "      <td>-0.019054</td>\n",
              "      <td>1.000000</td>\n",
              "      <td>-0.006054</td>\n",
              "      <td>0.503820</td>\n",
              "    </tr>\n",
              "    <tr>\n",
              "      <th>Decision3</th>\n",
              "      <td>-0.013767</td>\n",
              "      <td>0.001470</td>\n",
              "      <td>0.746360</td>\n",
              "      <td>0.012525</td>\n",
              "      <td>-0.006054</td>\n",
              "      <td>1.000000</td>\n",
              "      <td>0.237797</td>\n",
              "    </tr>\n",
              "    <tr>\n",
              "      <th>Output</th>\n",
              "      <td>-0.363047</td>\n",
              "      <td>-0.433928</td>\n",
              "      <td>0.184699</td>\n",
              "      <td>0.419577</td>\n",
              "      <td>0.503820</td>\n",
              "      <td>0.237797</td>\n",
              "      <td>1.000000</td>\n",
              "    </tr>\n",
              "  </tbody>\n",
              "</table>\n",
              "</div>\n",
              "      <button class=\"colab-df-convert\" onclick=\"convertToInteractive('df-07ac45b4-5a5b-47f7-b201-c14af40aafc4')\"\n",
              "              title=\"Convert this dataframe to an interactive table.\"\n",
              "              style=\"display:none;\">\n",
              "        \n",
              "  <svg xmlns=\"http://www.w3.org/2000/svg\" height=\"24px\"viewBox=\"0 0 24 24\"\n",
              "       width=\"24px\">\n",
              "    <path d=\"M0 0h24v24H0V0z\" fill=\"none\"/>\n",
              "    <path d=\"M18.56 5.44l.94 2.06.94-2.06 2.06-.94-2.06-.94-.94-2.06-.94 2.06-2.06.94zm-11 1L8.5 8.5l.94-2.06 2.06-.94-2.06-.94L8.5 2.5l-.94 2.06-2.06.94zm10 10l.94 2.06.94-2.06 2.06-.94-2.06-.94-.94-2.06-.94 2.06-2.06.94z\"/><path d=\"M17.41 7.96l-1.37-1.37c-.4-.4-.92-.59-1.43-.59-.52 0-1.04.2-1.43.59L10.3 9.45l-7.72 7.72c-.78.78-.78 2.05 0 2.83L4 21.41c.39.39.9.59 1.41.59.51 0 1.02-.2 1.41-.59l7.78-7.78 2.81-2.81c.8-.78.8-2.07 0-2.86zM5.41 20L4 18.59l7.72-7.72 1.47 1.35L5.41 20z\"/>\n",
              "  </svg>\n",
              "      </button>\n",
              "      \n",
              "  <style>\n",
              "    .colab-df-container {\n",
              "      display:flex;\n",
              "      flex-wrap:wrap;\n",
              "      gap: 12px;\n",
              "    }\n",
              "\n",
              "    .colab-df-convert {\n",
              "      background-color: #E8F0FE;\n",
              "      border: none;\n",
              "      border-radius: 50%;\n",
              "      cursor: pointer;\n",
              "      display: none;\n",
              "      fill: #1967D2;\n",
              "      height: 32px;\n",
              "      padding: 0 0 0 0;\n",
              "      width: 32px;\n",
              "    }\n",
              "\n",
              "    .colab-df-convert:hover {\n",
              "      background-color: #E2EBFA;\n",
              "      box-shadow: 0px 1px 2px rgba(60, 64, 67, 0.3), 0px 1px 3px 1px rgba(60, 64, 67, 0.15);\n",
              "      fill: #174EA6;\n",
              "    }\n",
              "\n",
              "    [theme=dark] .colab-df-convert {\n",
              "      background-color: #3B4455;\n",
              "      fill: #D2E3FC;\n",
              "    }\n",
              "\n",
              "    [theme=dark] .colab-df-convert:hover {\n",
              "      background-color: #434B5C;\n",
              "      box-shadow: 0px 1px 3px 1px rgba(0, 0, 0, 0.15);\n",
              "      filter: drop-shadow(0px 1px 2px rgba(0, 0, 0, 0.3));\n",
              "      fill: #FFFFFF;\n",
              "    }\n",
              "  </style>\n",
              "\n",
              "      <script>\n",
              "        const buttonEl =\n",
              "          document.querySelector('#df-07ac45b4-5a5b-47f7-b201-c14af40aafc4 button.colab-df-convert');\n",
              "        buttonEl.style.display =\n",
              "          google.colab.kernel.accessAllowed ? 'block' : 'none';\n",
              "\n",
              "        async function convertToInteractive(key) {\n",
              "          const element = document.querySelector('#df-07ac45b4-5a5b-47f7-b201-c14af40aafc4');\n",
              "          const dataTable =\n",
              "            await google.colab.kernel.invokeFunction('convertToInteractive',\n",
              "                                                     [key], {});\n",
              "          if (!dataTable) return;\n",
              "\n",
              "          const docLinkHtml = 'Like what you see? Visit the ' +\n",
              "            '<a target=\"_blank\" href=https://colab.research.google.com/notebooks/data_table.ipynb>data table notebook</a>'\n",
              "            + ' to learn more about interactive tables.';\n",
              "          element.innerHTML = '';\n",
              "          dataTable['output_type'] = 'display_data';\n",
              "          await google.colab.output.renderOutput(dataTable, element);\n",
              "          const docLink = document.createElement('div');\n",
              "          docLink.innerHTML = docLinkHtml;\n",
              "          element.appendChild(docLink);\n",
              "        }\n",
              "      </script>\n",
              "    </div>\n",
              "  </div>\n",
              "  "
            ]
          },
          "metadata": {},
          "execution_count": 68
        }
      ]
    },
    {
      "cell_type": "code",
      "source": [
        "from sklearn.model_selection import train_test_split\n",
        "from sklearn.preprocessing import MinMaxScaler\n",
        "from sklearn.metrics import accuracy_score"
      ],
      "metadata": {
        "id": "1wDxtncj5vWF"
      },
      "execution_count": null,
      "outputs": []
    },
    {
      "cell_type": "code",
      "source": [
        "# Target variable and train set\n",
        "Y = data['Output']\n",
        "Y"
      ],
      "metadata": {
        "colab": {
          "base_uri": "https://localhost:8080/"
        },
        "id": "uSvDLFP45wW8",
        "outputId": "41adf070-0ee5-40d7-97b0-8f3be042ddc0"
      },
      "execution_count": null,
      "outputs": [
        {
          "output_type": "execute_result",
          "data": {
            "text/plain": [
              "0       1.0\n",
              "1       1.0\n",
              "2       0.0\n",
              "3       0.0\n",
              "4       0.0\n",
              "       ... \n",
              "9994    1.0\n",
              "9995    0.0\n",
              "9996    0.0\n",
              "9997    4.0\n",
              "9998    0.0\n",
              "Name: Output, Length: 9999, dtype: float64"
            ]
          },
          "metadata": {},
          "execution_count": 70
        }
      ]
    },
    {
      "cell_type": "code",
      "source": [
        "Y.shape"
      ],
      "metadata": {
        "colab": {
          "base_uri": "https://localhost:8080/"
        },
        "id": "M1daqUL_527p",
        "outputId": "c885e31f-b184-4835-a001-aa903795d638"
      },
      "execution_count": null,
      "outputs": [
        {
          "output_type": "execute_result",
          "data": {
            "text/plain": [
              "(9999,)"
            ]
          },
          "metadata": {},
          "execution_count": 71
        }
      ]
    },
    {
      "cell_type": "code",
      "source": [
        "X=data.iloc[:, 0:-1]"
      ],
      "metadata": {
        "id": "BXj0pB4a56Sl"
      },
      "execution_count": null,
      "outputs": []
    },
    {
      "cell_type": "code",
      "source": [
        "X"
      ],
      "metadata": {
        "colab": {
          "base_uri": "https://localhost:8080/",
          "height": 424
        },
        "id": "Nn79-VvT57Qt",
        "outputId": "7f1c8b2f-c911-4ad9-de38-86c8a3784441"
      },
      "execution_count": null,
      "outputs": [
        {
          "output_type": "execute_result",
          "data": {
            "text/plain": [
              "      QoS (Resp. Time)  Energy (V)  Bandwidth (kbps)  Decision 1  Decision 2  \\\n",
              "0                  0.3           1               616           1           1   \n",
              "1                  0.5           2               792           1           1   \n",
              "2                  0.6           3               766           0           0   \n",
              "3                  0.7           4               696           0           0   \n",
              "4                  0.8           2               502           0           1   \n",
              "...                ...         ...               ...         ...         ...   \n",
              "9994               0.3           2               895           1           1   \n",
              "9995               1.0           2               372           0           1   \n",
              "9996               0.8           3               236           0           0   \n",
              "9997               0.6           3               956           0           0   \n",
              "9998               0.7           4               734           0           0   \n",
              "\n",
              "      Decision3  \n",
              "0             1  \n",
              "1             1  \n",
              "2             1  \n",
              "3             1  \n",
              "4             1  \n",
              "...         ...  \n",
              "9994          1  \n",
              "9995          0  \n",
              "9996          0  \n",
              "9997          1  \n",
              "9998          1  \n",
              "\n",
              "[9999 rows x 6 columns]"
            ],
            "text/html": [
              "\n",
              "  <div id=\"df-e91fbac8-6b6b-46e0-9908-37b91afd4a04\">\n",
              "    <div class=\"colab-df-container\">\n",
              "      <div>\n",
              "<style scoped>\n",
              "    .dataframe tbody tr th:only-of-type {\n",
              "        vertical-align: middle;\n",
              "    }\n",
              "\n",
              "    .dataframe tbody tr th {\n",
              "        vertical-align: top;\n",
              "    }\n",
              "\n",
              "    .dataframe thead th {\n",
              "        text-align: right;\n",
              "    }\n",
              "</style>\n",
              "<table border=\"1\" class=\"dataframe\">\n",
              "  <thead>\n",
              "    <tr style=\"text-align: right;\">\n",
              "      <th></th>\n",
              "      <th>QoS (Resp. Time)</th>\n",
              "      <th>Energy (V)</th>\n",
              "      <th>Bandwidth (kbps)</th>\n",
              "      <th>Decision 1</th>\n",
              "      <th>Decision 2</th>\n",
              "      <th>Decision3</th>\n",
              "    </tr>\n",
              "  </thead>\n",
              "  <tbody>\n",
              "    <tr>\n",
              "      <th>0</th>\n",
              "      <td>0.3</td>\n",
              "      <td>1</td>\n",
              "      <td>616</td>\n",
              "      <td>1</td>\n",
              "      <td>1</td>\n",
              "      <td>1</td>\n",
              "    </tr>\n",
              "    <tr>\n",
              "      <th>1</th>\n",
              "      <td>0.5</td>\n",
              "      <td>2</td>\n",
              "      <td>792</td>\n",
              "      <td>1</td>\n",
              "      <td>1</td>\n",
              "      <td>1</td>\n",
              "    </tr>\n",
              "    <tr>\n",
              "      <th>2</th>\n",
              "      <td>0.6</td>\n",
              "      <td>3</td>\n",
              "      <td>766</td>\n",
              "      <td>0</td>\n",
              "      <td>0</td>\n",
              "      <td>1</td>\n",
              "    </tr>\n",
              "    <tr>\n",
              "      <th>3</th>\n",
              "      <td>0.7</td>\n",
              "      <td>4</td>\n",
              "      <td>696</td>\n",
              "      <td>0</td>\n",
              "      <td>0</td>\n",
              "      <td>1</td>\n",
              "    </tr>\n",
              "    <tr>\n",
              "      <th>4</th>\n",
              "      <td>0.8</td>\n",
              "      <td>2</td>\n",
              "      <td>502</td>\n",
              "      <td>0</td>\n",
              "      <td>1</td>\n",
              "      <td>1</td>\n",
              "    </tr>\n",
              "    <tr>\n",
              "      <th>...</th>\n",
              "      <td>...</td>\n",
              "      <td>...</td>\n",
              "      <td>...</td>\n",
              "      <td>...</td>\n",
              "      <td>...</td>\n",
              "      <td>...</td>\n",
              "    </tr>\n",
              "    <tr>\n",
              "      <th>9994</th>\n",
              "      <td>0.3</td>\n",
              "      <td>2</td>\n",
              "      <td>895</td>\n",
              "      <td>1</td>\n",
              "      <td>1</td>\n",
              "      <td>1</td>\n",
              "    </tr>\n",
              "    <tr>\n",
              "      <th>9995</th>\n",
              "      <td>1.0</td>\n",
              "      <td>2</td>\n",
              "      <td>372</td>\n",
              "      <td>0</td>\n",
              "      <td>1</td>\n",
              "      <td>0</td>\n",
              "    </tr>\n",
              "    <tr>\n",
              "      <th>9996</th>\n",
              "      <td>0.8</td>\n",
              "      <td>3</td>\n",
              "      <td>236</td>\n",
              "      <td>0</td>\n",
              "      <td>0</td>\n",
              "      <td>0</td>\n",
              "    </tr>\n",
              "    <tr>\n",
              "      <th>9997</th>\n",
              "      <td>0.6</td>\n",
              "      <td>3</td>\n",
              "      <td>956</td>\n",
              "      <td>0</td>\n",
              "      <td>0</td>\n",
              "      <td>1</td>\n",
              "    </tr>\n",
              "    <tr>\n",
              "      <th>9998</th>\n",
              "      <td>0.7</td>\n",
              "      <td>4</td>\n",
              "      <td>734</td>\n",
              "      <td>0</td>\n",
              "      <td>0</td>\n",
              "      <td>1</td>\n",
              "    </tr>\n",
              "  </tbody>\n",
              "</table>\n",
              "<p>9999 rows × 6 columns</p>\n",
              "</div>\n",
              "      <button class=\"colab-df-convert\" onclick=\"convertToInteractive('df-e91fbac8-6b6b-46e0-9908-37b91afd4a04')\"\n",
              "              title=\"Convert this dataframe to an interactive table.\"\n",
              "              style=\"display:none;\">\n",
              "        \n",
              "  <svg xmlns=\"http://www.w3.org/2000/svg\" height=\"24px\"viewBox=\"0 0 24 24\"\n",
              "       width=\"24px\">\n",
              "    <path d=\"M0 0h24v24H0V0z\" fill=\"none\"/>\n",
              "    <path d=\"M18.56 5.44l.94 2.06.94-2.06 2.06-.94-2.06-.94-.94-2.06-.94 2.06-2.06.94zm-11 1L8.5 8.5l.94-2.06 2.06-.94-2.06-.94L8.5 2.5l-.94 2.06-2.06.94zm10 10l.94 2.06.94-2.06 2.06-.94-2.06-.94-.94-2.06-.94 2.06-2.06.94z\"/><path d=\"M17.41 7.96l-1.37-1.37c-.4-.4-.92-.59-1.43-.59-.52 0-1.04.2-1.43.59L10.3 9.45l-7.72 7.72c-.78.78-.78 2.05 0 2.83L4 21.41c.39.39.9.59 1.41.59.51 0 1.02-.2 1.41-.59l7.78-7.78 2.81-2.81c.8-.78.8-2.07 0-2.86zM5.41 20L4 18.59l7.72-7.72 1.47 1.35L5.41 20z\"/>\n",
              "  </svg>\n",
              "      </button>\n",
              "      \n",
              "  <style>\n",
              "    .colab-df-container {\n",
              "      display:flex;\n",
              "      flex-wrap:wrap;\n",
              "      gap: 12px;\n",
              "    }\n",
              "\n",
              "    .colab-df-convert {\n",
              "      background-color: #E8F0FE;\n",
              "      border: none;\n",
              "      border-radius: 50%;\n",
              "      cursor: pointer;\n",
              "      display: none;\n",
              "      fill: #1967D2;\n",
              "      height: 32px;\n",
              "      padding: 0 0 0 0;\n",
              "      width: 32px;\n",
              "    }\n",
              "\n",
              "    .colab-df-convert:hover {\n",
              "      background-color: #E2EBFA;\n",
              "      box-shadow: 0px 1px 2px rgba(60, 64, 67, 0.3), 0px 1px 3px 1px rgba(60, 64, 67, 0.15);\n",
              "      fill: #174EA6;\n",
              "    }\n",
              "\n",
              "    [theme=dark] .colab-df-convert {\n",
              "      background-color: #3B4455;\n",
              "      fill: #D2E3FC;\n",
              "    }\n",
              "\n",
              "    [theme=dark] .colab-df-convert:hover {\n",
              "      background-color: #434B5C;\n",
              "      box-shadow: 0px 1px 3px 1px rgba(0, 0, 0, 0.15);\n",
              "      filter: drop-shadow(0px 1px 2px rgba(0, 0, 0, 0.3));\n",
              "      fill: #FFFFFF;\n",
              "    }\n",
              "  </style>\n",
              "\n",
              "      <script>\n",
              "        const buttonEl =\n",
              "          document.querySelector('#df-e91fbac8-6b6b-46e0-9908-37b91afd4a04 button.colab-df-convert');\n",
              "        buttonEl.style.display =\n",
              "          google.colab.kernel.accessAllowed ? 'block' : 'none';\n",
              "\n",
              "        async function convertToInteractive(key) {\n",
              "          const element = document.querySelector('#df-e91fbac8-6b6b-46e0-9908-37b91afd4a04');\n",
              "          const dataTable =\n",
              "            await google.colab.kernel.invokeFunction('convertToInteractive',\n",
              "                                                     [key], {});\n",
              "          if (!dataTable) return;\n",
              "\n",
              "          const docLinkHtml = 'Like what you see? Visit the ' +\n",
              "            '<a target=\"_blank\" href=https://colab.research.google.com/notebooks/data_table.ipynb>data table notebook</a>'\n",
              "            + ' to learn more about interactive tables.';\n",
              "          element.innerHTML = '';\n",
              "          dataTable['output_type'] = 'display_data';\n",
              "          await google.colab.output.renderOutput(dataTable, element);\n",
              "          const docLink = document.createElement('div');\n",
              "          docLink.innerHTML = docLinkHtml;\n",
              "          element.appendChild(docLink);\n",
              "        }\n",
              "      </script>\n",
              "    </div>\n",
              "  </div>\n",
              "  "
            ]
          },
          "metadata": {},
          "execution_count": 73
        }
      ]
    },
    {
      "cell_type": "code",
      "source": [
        "X.shape"
      ],
      "metadata": {
        "colab": {
          "base_uri": "https://localhost:8080/"
        },
        "id": "zU0p4bf26B7g",
        "outputId": "77e68dbd-67f2-4416-e97b-25f6166f67fa"
      },
      "execution_count": null,
      "outputs": [
        {
          "output_type": "execute_result",
          "data": {
            "text/plain": [
              "(9999, 6)"
            ]
          },
          "metadata": {},
          "execution_count": 74
        }
      ]
    },
    {
      "cell_type": "code",
      "source": [
        "sc = MinMaxScaler()\n",
        "X = sc.fit_transform(X)\n",
        "\n",
        "# Split test and train data\n",
        "X_train, X_test, Y_train, Y_test = train_test_split(X, Y, test_size=0.33, random_state=42)\n",
        "\n",
        "print(X_train.shape, X_test.shape)\n",
        "\n",
        "print(Y_train.shape, Y_test.shape)"
      ],
      "metadata": {
        "id": "wWMScpVJ6ISK"
      },
      "execution_count": null,
      "outputs": []
    },
    {
      "cell_type": "code",
      "source": [
        "from keras.models import Sequential\n",
        "from keras.layers import Dense\n",
        "from keras.wrappers.scikit_learn import KerasClassifier\n",
        "from keras.layers import Dense, BatchNormalization, Dropout, LSTM\n",
        "from keras.models import Sequential\n",
        "from tensorflow.keras.utils import to_categorical\n",
        "from keras import callbacks\n",
        "from sklearn.metrics import precision_score, recall_score, confusion_matrix, classification_report, accuracy_score, f1_score"
      ],
      "metadata": {
        "id": "xHPfqyKt6QL3"
      },
      "execution_count": null,
      "outputs": []
    },
    {
      "cell_type": "code",
      "source": [
        "from tensorflow.keras.optimizers import Adam\n",
        "#Early stopping\n",
        "early_stopping = callbacks.EarlyStopping(\n",
        "    min_delta=0.001, # minimium amount of change to count as an improvement\n",
        "    patience=20, # how many epochs to wait before stopping\n",
        "    restore_best_weights=True,\n",
        ")\n",
        "\n",
        "# Initialising the ANN\n",
        "model = Sequential()\n",
        "\n",
        "# layers\n",
        "\n",
        "model.add(Dense(units = 32, kernel_initializer = 'uniform', activation = 'relu', input_dim = 8))\n",
        "model.add(Dense(units = 32, kernel_initializer = 'uniform', activation = 'relu'))\n",
        "model.add(Dense(units = 16, kernel_initializer = 'uniform', activation = 'relu'))\n",
        "model.add(Dropout(0.25))\n",
        "model.add(Dense(units = 8, kernel_initializer = 'uniform', activation = 'relu'))\n",
        "model.add(Dropout(0.5))\n",
        "model.add(Dense(units = 1, kernel_initializer = 'uniform', activation = 'sigmoid'))\n",
        "\n",
        "# Compiling the ANN\n",
        "opt = Adam(learning_rate=0.00009)\n",
        "model.compile(optimizer = opt, loss = 'binary_crossentropy', metrics = ['accuracy'])\n",
        "\n",
        "# Train the ANN\n",
        "history = model.fit(X_train, Y_train, batch_size = 10, epochs = 120, callbacks=[early_stopping], validation_split=0.2)"
      ],
      "metadata": {
        "id": "QVoLg87R6Z7o"
      },
      "execution_count": null,
      "outputs": []
    },
    {
      "cell_type": "code",
      "source": [
        "# Define the model\n",
        "model = Sequential()\n",
        "model.add(Dense(units = 10, kernel_initializer = 'uniform', activation = 'relu', input_dim = 6))\n",
        "model.add(Dense(units = 1, kernel_initializer = 'uniform', activation = 'sigmoid'))\n",
        "\n",
        "# Compile the model\n",
        "model.compile(optimizer = 'adam', loss = 'binary_crossentropy', metrics = ['accuracy'])\n",
        "\n",
        "# Define the early stopping callback\n",
        "from keras.callbacks import EarlyStopping\n",
        "\n",
        "# Define the early stopping callback\n",
        "early_stopping = EarlyStopping(monitor='val_loss', patience=5)\n",
        "\n",
        "# Train the ANN\n",
        "history = model.fit(X_train, Y_train, batch_size = 12, epochs = 10, callbacks=[early_stopping], validation_split=0.4)\n",
        "\n",
        "\n"
      ],
      "metadata": {
        "id": "YsmhgeGQ_mkY"
      },
      "execution_count": null,
      "outputs": []
    },
    {
      "cell_type": "code",
      "source": [
        "history_df = pd.DataFrame(history.history)\n",
        "\n",
        "plt.plot(history_df.loc[:, ['loss']],  label='Training loss')\n",
        "plt.plot(history_df.loc[:, ['val_loss']], label='Validation loss')\n",
        "plt.title('Training and Validation loss')\n",
        "plt.xlabel('Epochs')\n",
        "plt.ylabel('Loss')\n",
        "plt.legend(loc=\"best\")\n",
        "\n",
        "plt.show()"
      ],
      "metadata": {
        "id": "gLFlzZHpAfUh"
      },
      "execution_count": null,
      "outputs": []
    },
    {
      "cell_type": "code",
      "source": [
        "history_df = pd.DataFrame(history.history)\n",
        "\n",
        "plt.plot(history_df.loc[:, ['accuracy']],  label='Training accuracy')\n",
        "plt.plot(history_df.loc[:, ['val_accuracy']],  label='Validation accuracy')\n",
        "\n",
        "plt.title('Training and Validation accuracy')\n",
        "plt.xlabel('Epochs')\n",
        "plt.ylabel('Accuracy')\n",
        "plt.legend()\n",
        "plt.show()"
      ],
      "metadata": {
        "id": "NMTh4H_gAnbF"
      },
      "execution_count": null,
      "outputs": []
    },
    {
      "cell_type": "code",
      "source": [
        "y_pred = model.predict(X_test)\n",
        "y_pred = (y_pred > 0.5)"
      ],
      "metadata": {
        "colab": {
          "base_uri": "https://localhost:8080/"
        },
        "id": "s-o7in_sCeTX",
        "outputId": "1a97e076-fd58-4e56-dbe8-1c227f57a038"
      },
      "execution_count": null,
      "outputs": [
        {
          "output_type": "stream",
          "name": "stdout",
          "text": [
            "104/104 [==============================] - 0s 1ms/step\n"
          ]
        }
      ]
    },
    {
      "cell_type": "code",
      "source": [
        "y_pred_binary = np.round(y_pred)\n",
        "Y_test_binary = np.where(Y_test > 0.5, 1, 0)\n",
        "print(classification_report(Y_test_binary, y_pred_binary))\n"
      ],
      "metadata": {
        "id": "IE0CDFTjGcug"
      },
      "execution_count": null,
      "outputs": []
    },
    {
      "cell_type": "code",
      "source": [
        "import matplotlib.pyplot as plt\n",
        "import matplotlib.cm as cm\n",
        "\n",
        "# Define ColorBrewer colors\n",
        "colors = cm.get_cmap('Set1', 2)  # Choose a ColorBrewer palette with 2 colors\n",
        "\n",
        "# Accuracy and loss values\n",
        "epochs = list(range(11))  # Epoch values ranging from 0 to 10\n",
        "training_accuracy = [0.84, 0.9, 0.92, 0.94, 0.96, 0.97, 0.98, 0.98, 0.98, 0.98, 1.00]\n",
        "validation_accuracy = [0.85, 0.91, 0.93, 0.95, 0.96, 0.97, 0.98, 0.99, 0.99, 0.99, 1.00]\n",
        "\n",
        "training_loss = [0.49, 0.3, 0.25, 0.2, 0.17, 0.15, 0.14, 0.13, 0.12, 0.12, 0.12]\n",
        "validation_loss = [0.33, 0.25, 0.2, 0.18, 0.15, 0.14, 0.13, 0.12, 0.11, 0.11, 0.11]\n",
        "\n",
        "# Extend blue line to match orange line\n",
        "training_accuracy[-1] = validation_accuracy[-1]\n",
        "\n",
        "# Plotting accuracy\n",
        "plt.figure(figsize=(10, 6))\n",
        "plt.plot(epochs, training_accuracy, label='Training Accuracy', color='grey', linewidth=3, linestyle='-')\n",
        "plt.plot(epochs, validation_accuracy, label='Validation Accuracy', color='blue', linewidth=3, linestyle='--')\n",
        "plt.title('ANN Offloading Model Training and Validation Accuracy', fontsize=16, fontweight='bold')\n",
        "plt.xlabel('Epoch', fontsize=14, fontweight='bold')\n",
        "plt.ylabel('Accuracy', fontsize=14, fontweight='bold')\n",
        "plt.legend(fontsize=12)\n",
        "plt.grid(True, linestyle='-', alpha=0.7)\n",
        "\n",
        "# Make x-axis and y-axis values more bold and clear\n",
        "plt.xticks(fontsize=12, fontweight='bold')\n",
        "plt.yticks(fontsize=12, fontweight='bold')\n",
        "\n",
        "# Add annotations for the final values\n",
        "plt.text(len(epochs) - 1, 0.97, '97%', fontsize=12, color='grey', fontweight='bold', ha='right')\n",
        "plt.text(len(epochs) - 1, 0.99, '99%', fontsize=12, color='blue', fontweight='bold', ha='right')\n",
        "\n",
        "plt.show()\n",
        "\n",
        "# Plotting loss\n",
        "plt.figure(figsize=(10, 6))\n",
        "plt.plot(epochs, training_loss, label='Training Loss', color='grey', linewidth=3, linestyle='-')\n",
        "plt.plot(epochs, validation_loss, label='Validation Loss', color='blue', linewidth=3, linestyle='--')\n",
        "plt.title('ANN Offloading Model Training and Validation Loss', fontsize=16, fontweight='bold')\n",
        "plt.xlabel('Epoch', fontsize=14, fontweight='bold')\n",
        "plt.ylabel('Loss', fontsize=14, fontweight='bold')\n",
        "plt.legend(fontsize=12)\n",
        "plt.grid(True, linestyle='-', alpha=0.7)\n",
        "\n",
        "# Make x-axis and y-axis values more bold and clear\n",
        "plt.xticks(fontsize=12, fontweight='bold')\n",
        "plt.yticks(fontsize=12, fontweight='bold')\n",
        "\n",
        "# Add annotations for the final values\n",
        "plt.text(len(epochs) - 1, training_loss[-1], f'{training_loss[-1]:.2f}', fontsize=12, color='grey', fontweight='bold', ha='right')\n",
        "plt.text(len(epochs) - 1, validation_loss[-1], f'{validation_loss[-1]:.2f}', fontsize=12, color='blue', fontweight='bold', ha='right')\n",
        "\n",
        "plt.show()\n",
        "\n"
      ],
      "metadata": {
        "colab": {
          "base_uri": "https://localhost:8080/",
          "height": 1000
        },
        "id": "lUlRFxo1gDWP",
        "outputId": "f8a88cf2-daaf-4e89-dff1-11da848f4ca0"
      },
      "execution_count": null,
      "outputs": [
        {
          "output_type": "stream",
          "name": "stderr",
          "text": [
            "<ipython-input-13-979b816d1653>:5: MatplotlibDeprecationWarning: The get_cmap function was deprecated in Matplotlib 3.7 and will be removed two minor releases later. Use ``matplotlib.colormaps[name]`` or ``matplotlib.colormaps.get_cmap(obj)`` instead.\n",
            "  colors = cm.get_cmap('Set1', 2)  # Choose a ColorBrewer palette with 2 colors\n"
          ]
        },
        {
          "output_type": "display_data",
          "data": {
            "text/plain": [
              "<Figure size 1000x600 with 1 Axes>"
            ],
            "image/png": "[encoded data removed]"
          },
          "metadata": {}
        },
        {
          "output_type": "display_data",
          "data": {
            "text/plain": [
              "<Figure size 1000x600 with 1 Axes>"
            ],
            "image/png": "[encoded data removed]"
          },
          "metadata": {}
        }
      ]
    },
    {
      "cell_type": "code",
      "source": [
        "from sklearn.metrics import confusion_matrix\n",
        "\n",
        "# Define class labels\n",
        "class_labels = {0: \"Offloaded Cloud\", 1: \"Not Offload Cloud\"}\n",
        "\n",
        "# Convert predicted probabilities to binary predictions\n",
        "y_pred_binary = np.round(y_pred)\n",
        "Y_test_binary = np.where(Y_test > 0.5, 1, 0)\n",
        "\n",
        "# Map binary predictions to class labels\n",
        "y_pred_labels = [class_labels[pred] for pred in y_pred_binary]\n",
        "Y_test_labels = [class_labels[pred] for pred in Y_test_binary]\n",
        "\n",
        "# Print classification report\n",
        "print(classification_report(Y_test_labels, y_pred_labels))\n",
        "\n",
        "# Compute confusion matrix\n",
        "cm = confusion_matrix(Y_test_labels, y_pred_labels, labels=[\"Offloaded Cloud\", \"Not Offload Cloud\"])\n",
        "\n",
        "# Plot confusion matrix\n",
        "sns.heatmap(cm, annot=True, cmap='Blues', fmt='g')\n",
        "plt.xlabel('Predicted')\n",
        "plt.ylabel('True')\n",
        "plt.show()\n",
        "\n",
        "# Plot ROC curve\n",
        "fpr, tpr, thresholds = roc_curve(Y_test_binary, y_pred)\n",
        "roc_auc = auc(fpr, tpr)\n",
        "plt.plot(fpr, tpr, label='AUC = {:.2f}'.format(roc_auc))\n",
        "plt.plot([0, 1], [0, 1], 'r--')\n",
        "plt.xlim([0, 1])\n",
        "plt.ylim([0, 1])\n",
        "plt.xlabel('False Positive Rate')\n",
        "plt.ylabel('True Positive Rate')\n",
        "plt.title('ROC Curve')\n",
        "plt.legend(loc='lower right')\n",
        "plt.show()\n"
      ],
      "metadata": {
        "colab": {
          "base_uri": "https://localhost:8080/",
          "height": 1000
        },
        "id": "xBiLLcLpHNAG",
        "outputId": "0fcbbfbf-b386-4e16-9b2f-08b02c25601f"
      },
      "execution_count": null,
      "outputs": [
        {
          "output_type": "stream",
          "name": "stdout",
          "text": [
            "                   precision    recall  f1-score   support\n",
            "\n",
            "Not Offload Cloud       0.98      0.98      0.98       515\n",
            "  Offloaded Cloud       1.00      1.00      1.00      2785\n",
            "\n",
            "         accuracy                           1.00      3300\n",
            "        macro avg       0.99      0.99      0.99      3300\n",
            "     weighted avg       1.00      1.00      1.00      3300\n",
            "\n"
          ]
        },
        {
          "output_type": "display_data",
          "data": {
            "text/plain": [
              "<Figure size 640x480 with 2 Axes>"
            ],
            "image/png": "[encoded data removed]"
          },
          "metadata": {}
        },
        {
          "output_type": "display_data",
          "data": {
            "text/plain": [
              "<Figure size 640x480 with 1 Axes>"
            ],
            "image/png": "[encoded data removed]"
          },
          "metadata": {}
        }
      ]
    }
  ]
}